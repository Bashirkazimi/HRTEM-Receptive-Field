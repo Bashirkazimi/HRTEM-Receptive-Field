{
 "cells": [
  {
   "cell_type": "markdown",
   "id": "4891ec5f-a304-411b-8d77-73346c081d33",
   "metadata": {},
   "source": [
    "# Overview\n",
    "\n",
    "This iPython notebook demonstrates how we train UNets of varying receptive fields using PyTorch. For more details, please see our paper, \"Understanding the Influence of Receptive Field and Network Complexity in Neural-Network-Guided TEM Image Analysis\". We will demonstrate our process using the high-resolution TEM images of 5nm Au nanoparticles from Groschner et al. (2021), generated after our preprocessing routine (see other notebook). In our paper, we repeat this process for all datasets."
   ]
  },
  {
   "cell_type": "markdown",
   "id": "9fcc6ec7-6260-459f-98b1-32f97a02e004",
   "metadata": {},
   "source": [
    "# Import Packages"
   ]
  },
  {
   "cell_type": "code",
   "execution_count": 1,
   "id": "3cd9d4c7-957e-4a3f-982c-4ff7bbb0782b",
   "metadata": {},
   "outputs": [],
   "source": [
    "import torch\n",
    "from torch.utils.data import Dataset, DataLoader\n",
    "from torch import nn\n",
    "import h5py\n",
    "import numpy as np\n",
    "import time\n",
    "from pandas import DataFrame\n",
    "import matplotlib.pyplot as plt"
   ]
  },
  {
   "cell_type": "markdown",
   "id": "7fa5f968-40f2-4190-b0d1-7d196f32f55d",
   "metadata": {},
   "source": [
    "# Data and Model Definitions"
   ]
  },
  {
   "cell_type": "markdown",
   "id": "6259518f-9c85-441b-ba5a-edb217f30a39",
   "metadata": {},
   "source": [
    "First, we need to define a new Dataset object that imports the entire dataset and corresponding labels, and then outputs the image/label pair when queried."
   ]
  },
  {
   "cell_type": "code",
   "execution_count": 2,
   "id": "0af488f6-7f82-462a-9579-0660e3344dca",
   "metadata": {},
   "outputs": [],
   "source": [
    "#Dataset handling\n",
    "class TEMImageDataset(Dataset):\n",
    "  \"\"\"Creates a Dataset object that takes in a h5 file with all the training images\"\"\"\n",
    "\n",
    "  def __init__(self, image_filepath, img_key, labels_filepath, lbl_key):\n",
    "    \"\"\" Args:\n",
    "      image_filepath (string): path to the h5 file with the images\n",
    "      img_key (string): the \"key\" for the images in the h5 file\n",
    "      labels_filepath (string): path to the h5 file with the maps/labels\n",
    "      lbl_key (string): the \"key\" for the labels in the h5 file\n",
    "    \"\"\"\n",
    "    self.image = h5py.File(image_filepath,'r')[img_key][:,:,:,:]\n",
    "    self.labels = h5py.File(labels_filepath,'r')[lbl_key][:,:,:,:]\n",
    "  \n",
    "  def __len__(self):\n",
    "    return self.image.shape[0]\n",
    "  \n",
    "  def __getitem__(self, idx):\n",
    "    #If the provided idx is a tensor, then convert it to a list\n",
    "    if torch.is_tensor(idx):\n",
    "      idx = idx.tolist()\n",
    "    \n",
    "    images = self.image[idx] #Note that these output np arrays, not tensors\n",
    "    labels = self.labels[idx]\n",
    "    sample = {'image': images, 'label': labels}\n",
    "    \n",
    "    return sample"
   ]
  },
  {
   "cell_type": "markdown",
   "id": "4d743292-2e1b-48b0-9b08-563787e4c469",
   "metadata": {},
   "source": [
    "Next, we will build our UNet architecture. As the UNet is constructed of residual blocks, we will first create a module that defines a residual block."
   ]
  },
  {
   "cell_type": "code",
   "execution_count": 3,
   "id": "14b71ddd-ab58-41c4-a979-3089e0cf9714",
   "metadata": {},
   "outputs": [],
   "source": [
    "class ResidualBlock(nn.Module):\n",
    "  def __init__(self, in_channels, out_channels, kernel_size1, kernel_size2):\n",
    "    super().__init__()\n",
    "    self.conv1 = nn.Conv2d(in_channels,out_channels,kernel_size1, padding=(kernel_size1-1)//2)\n",
    "    self.conv2 = nn.Conv2d(out_channels,out_channels,kernel_size2, padding=(kernel_size2-1)//2)\n",
    "    self.bn1 = nn.BatchNorm2d(out_channels)\n",
    "    self.bn2 = nn.BatchNorm2d(out_channels)\n",
    "    self.relu1 = nn.ReLU()\n",
    "    self.relu2 = nn.ReLU()\n",
    "    self.conv_add = nn.Conv2d(in_channels,out_channels,kernel_size = 1) #Expands/contracts input image in the filter dimension for the ReLU skip connection\n",
    "\n",
    "    #Copied from torchvision to correctly initialize layers\n",
    "    for m in self.modules():\n",
    "      if isinstance(m, nn.Conv2d):\n",
    "        nn.init.kaiming_normal_(m.weight)\n",
    "      elif isinstance(m, nn.BatchNorm2d):\n",
    "        nn.init.constant_(m.weight, 1)\n",
    "        nn.init.constant_(m.bias, 0)\n",
    "  \n",
    "  def forward(self, x):\n",
    "    out = self.conv1(x)\n",
    "    out = self.bn1(out)\n",
    "    out = self.relu1(out)\n",
    "    out = self.conv2(out)\n",
    "    out = self.bn2(out)\n",
    "    skip = self.conv_add(x)\n",
    "    out += skip\n",
    "    out = self.relu2(out)\n",
    "    return out"
   ]
  },
  {
   "cell_type": "markdown",
   "id": "5ad42615-1650-4ca6-84bc-0d26844d73e6",
   "metadata": {},
   "source": [
    "Finally, we can build the UNet."
   ]
  },
  {
   "cell_type": "code",
   "execution_count": 4,
   "id": "1b7e26ee-466e-4e25-b26c-0277892f9d27",
   "metadata": {},
   "outputs": [],
   "source": [
    "class UNet(nn.Module):\n",
    "  def __init__(self, num_blocks,filter_sequence,max_pool_sequence, num_classes = 2):\n",
    "    #num_blocks: number of residual blocks in network\n",
    "    #filter_sequence: list of filter sizes\n",
    "    #max_pool_sequence: list of max pooling filter sizes\n",
    "   \n",
    "    super(UNet, self).__init__()\n",
    "    self.downs = nn.ModuleList()\n",
    "    self.ups = nn.ModuleList()\n",
    "   \n",
    "    self.pools = nn.ModuleList()\n",
    "    self.upsamples = nn.ModuleList()\n",
    "    \n",
    "    # creates down and pooling layers\n",
    "    in_channels = 1\n",
    "    for i in range(num_blocks):\n",
    "        self.downs.append(ResidualBlock(in_channels,filter_sequence[i],3,3))\n",
    "        in_channels = filter_sequence[i]\n",
    "        self.pools.append(nn.MaxPool2d(kernel_size = max_pool_sequence[i], stride = max_pool_sequence[i]))\n",
    "\n",
    "    # creates up and upsampling layers\n",
    "    for i in reversed(range(num_blocks)):\n",
    "        self.ups.append(ResidualBlock(filter_sequence[i]+filter_sequence[i+1],filter_sequence[i],3,3)) #The 2*filters in the input channels refers to the extra channels from the concat layer\n",
    "        self.upsamples.append(nn.Upsample(scale_factor=max_pool_sequence[i]))\n",
    "\n",
    "    # \"bottleneck\" or middle part at bottom of U\n",
    "    self.bottleneck = ResidualBlock(filter_sequence[num_blocks-1],filter_sequence[num_blocks],3,3)\n",
    "\n",
    "    # final convolution with 1x1 kernel\n",
    "    self.final_conv = nn.Conv2d(filter_sequence[0], num_classes, kernel_size = 1)\n",
    "\n",
    "    self.num_blocks = num_blocks\n",
    "\n",
    "  \n",
    "  def forward(self, x):\n",
    "  \n",
    "    skips = [] # empty array to store skip connections\n",
    "\n",
    "    for i in range(self.num_blocks):\n",
    "        x = self.downs[i](x)\n",
    "        skips.append(x)\n",
    "        x = self.pools[i](x)\n",
    "\n",
    "    x = self.bottleneck(x)\n",
    "    skips = skips[::-1] # reverse skips array because we want to work with latest one first\n",
    "\n",
    "    for idx in range(self.num_blocks):\n",
    "      x = self.upsamples[idx](x)\n",
    "      skip = skips[idx]\n",
    "      concat_skip = torch.cat((skip,x),dim=1)\n",
    "      x = self.ups[idx](concat_skip)\n",
    "\n",
    "    out = self.final_conv(x)\n",
    "\n",
    "    return out"
   ]
  },
  {
   "cell_type": "markdown",
   "id": "bde8c468-1898-4fcb-a708-f96caac3f7a7",
   "metadata": {},
   "source": [
    "# Training and Testing Routines"
   ]
  },
  {
   "cell_type": "markdown",
   "id": "d465285e-2a8b-4949-a044-032d0764dc06",
   "metadata": {},
   "source": [
    "Here, we will define the training and testing loops, as well as our dice score metrics"
   ]
  },
  {
   "cell_type": "code",
   "execution_count": 5,
   "id": "e56e9669-e4bc-433e-8da9-b36f6e57580d",
   "metadata": {},
   "outputs": [],
   "source": [
    "#Training definitions\n",
    "def train_loop(dataloader, model, loss_fn, optimizer, device):\n",
    "  avg_loss = 0\n",
    "  dice_score = 0\n",
    "  hard_dice = 0\n",
    "  size = len(dataloader.dataset)\n",
    "  model.train()\n",
    "  for batch_i, sample_batch in enumerate(dataloader):\n",
    "    #Move the images and labels to the GPU\n",
    "    images = sample_batch['image'].to(device)\n",
    "    labels = sample_batch['label'].type(torch.LongTensor).to(device)\n",
    "\n",
    "    #Compute the prediction (i.e. forward pass)\n",
    "    pred = model(images)\n",
    "    \n",
    "    #Compute the loss\n",
    "    loss = loss_fn(pred,labels[:,0,:,:]) #can't have dimensions in the channel index\n",
    "\n",
    "    #Backpropagation\n",
    "    #First, reset the gradients of the model parameters\n",
    "    optimizer.zero_grad()\n",
    "    #Back prop the prediction loss\n",
    "    loss.backward()\n",
    "    #Adjust the parameters using the gradients collected\n",
    "    optimizer.step()\n",
    "\n",
    "    #Log the loss and dice score\n",
    "    avg_loss += loss.item()*sample_batch['image'].shape[0] #Undo the normalization by mini-batch size\n",
    "    dice_score += compute_dice(pred, labels, device).item()\n",
    "    hard_dice += compute_dice_hard(pred, labels, device).item()\n",
    "\n",
    "  #After going through all the batches, compute the average loss and dice score\n",
    "  return avg_loss/size, dice_score/size, hard_dice/size"
   ]
  },
  {
   "cell_type": "code",
   "execution_count": 6,
   "id": "d75b3722-bc35-47b0-a051-1acc949a15e1",
   "metadata": {},
   "outputs": [],
   "source": [
    "def test_loop(dataloader, model, loss_fn, optimizer, device):\n",
    "  avg_loss = 0\n",
    "  dice_score = 0\n",
    "  hard_dice = 0\n",
    "  size = len(dataloader.dataset)\n",
    "  model.eval()\n",
    "  with torch.no_grad():\n",
    "    for batch_i, sample_batch in enumerate(dataloader):\n",
    "      #Move the images and labels to the GPU\n",
    "      images = sample_batch['image'].to(device)\n",
    "      labels = sample_batch['label'].type(torch.LongTensor).to(device)\n",
    "      #Compute the prediction (i.e. forward pass)\n",
    "      pred = model(images)\n",
    "      #Compute the loss\n",
    "      loss = loss_fn(pred,labels[:,0,:,:]) \n",
    "      #Log the loss and dice score\n",
    "      avg_loss += loss.item()*sample_batch['image'].shape[0] #Undo the normalization by mini-batch size\n",
    "      dice_score += compute_dice(pred, labels, device).item()\n",
    "      hard_dice += compute_dice_hard(pred, labels, device).item()\n",
    "\n",
    "  #After going through all the batches, compute the average loss and dice score\n",
    "  return avg_loss/size, dice_score/size, hard_dice/size"
   ]
  },
  {
   "cell_type": "code",
   "execution_count": 7,
   "id": "c36650e3-306a-493b-b741-a3561b9918a3",
   "metadata": {},
   "outputs": [],
   "source": [
    "def compute_dice(y_pred, y_truth, device1, smooth=1):\n",
    "  #Need to first convert the ground truth into one-hot labels\n",
    "  #Create a new one_hot tensor on the device\n",
    "  one_hot = torch.zeros_like(y_pred, device=device1)\n",
    "  one_hot.scatter_(1,y_truth,1) #first argument is dimension that needs to \"expand\", second is the indicies to go to, third is the value to place at those locations\n",
    "  sm_layer = nn.Softmax2d()\n",
    "  y_pred = sm_layer(y_pred) #normalize the class score\n",
    "  intersection = torch.sum(y_pred[:,1,:,:] * one_hot[:,1,:,:], dim=(1,2)) #elemental multiplication and then sum, but only for one of the predictions, gives a N-sized tensor\n",
    "  return torch.sum(torch.div(2. * intersection + smooth , torch.sum(one_hot[:,1,:,:], dim=(1,2)) + torch.sum(y_pred[:,1,:,:],dim=(1,2)) + smooth))"
   ]
  },
  {
   "cell_type": "code",
   "execution_count": 8,
   "id": "374934db-7c5b-49dc-b997-5db8d15a0ed8",
   "metadata": {},
   "outputs": [],
   "source": [
    "def compute_dice_hard(y_pred, y_truth, device1, smooth=1):\n",
    "  #Need to first convert the ground truth into one-hot labels\n",
    "  #Create a new one_hot tensor on the device\n",
    "  one_hot = torch.zeros_like(y_pred, device=device1)\n",
    "  one_hot.scatter_(1,y_truth,1) #first argument is dimension that needs to \"expand\", second is the indicies to go to, third is the value to place at those locations\n",
    "  sm_layer = nn.Softmax2d()\n",
    "  y_pred = torch.round(sm_layer(y_pred)) #normalize the class score\n",
    "  intersection = torch.sum(y_pred[:,1,:,:] * one_hot[:,1,:,:], dim=(1,2)) #elemental multiplication and then sum, but only for one of the predictions, gives a N-sized tensor\n",
    "  return torch.sum(torch.div(2. * intersection + smooth , torch.sum(one_hot[:,1,:,:], dim=(1,2)) + torch.sum(y_pred[:,1,:,:],dim=(1,2)) + smooth))"
   ]
  },
  {
   "cell_type": "markdown",
   "id": "615d6aaa-a620-4a5f-bbb0-51739a5222e9",
   "metadata": {},
   "source": [
    "# Determine number of training epochs"
   ]
  },
  {
   "cell_type": "markdown",
   "id": "b2fb60fd-0bb8-40b3-9319-c66de6a52518",
   "metadata": {},
   "source": [
    "First, we need to determine the number of training epochs, or how many times we will run our training loop. We will do so by identifying when the loss function for the training and validation datasets diverge, or in other words, when the model starts to overfit to the training dataset.\n",
    "\n",
    "We will determine this for a 4-residual block network, which should have the greatest chance of overfitting. "
   ]
  },
  {
   "cell_type": "code",
   "execution_count": 10,
   "id": "f1e2e29d-8aa2-4908-8d8b-896141023039",
   "metadata": {},
   "outputs": [],
   "source": [
    "#Import the data\n",
    "train_img_filepath = '../dataset_preprocessing/Au_Training_DiAugment_Norm_PyTorch_Images.h5'\n",
    "train_lbl_filepath = '../dataset_preprocessing/Au_Training_DiAugment_Norm_PyTorch_Labels.h5'\n",
    "train_dataset = TEMImageDataset(image_filepath=train_img_filepath,img_key='images',labels_filepath=train_lbl_filepath,lbl_key = 'labels')\n",
    "\n",
    "valid_img_filepath = '../dataset_preprocessing/Au_Validation_DiAugment_Norm_PyTorch_Images.h5'\n",
    "valid_lbl_filepath = '../dataset_preprocessing/Au_Validation_DiAugment_Norm_PyTorch_Labels.h5'\n",
    "valid_dataset = TEMImageDataset(image_filepath=valid_img_filepath,img_key='images',labels_filepath=valid_lbl_filepath,lbl_key = 'labels')"
   ]
  },
  {
   "cell_type": "markdown",
   "id": "ddaaa61f-c75b-4296-bc85-85a7ad545435",
   "metadata": {},
   "source": [
    "Next, we specify the UNet architecture"
   ]
  },
  {
   "cell_type": "code",
   "execution_count": 11,
   "id": "d60cdbc5-12d5-4ec3-8c49-f0b61a25c9e8",
   "metadata": {},
   "outputs": [],
   "source": [
    "#Specify model parameters\n",
    "num_blocks = 4 #Number of residual blocks is 4\n",
    "filter_sequence = [4,8,16,32,64] #The number of filters will increase with each residual block\n",
    "pool_sequence = [2,2,2,2] #All max pooling filter sizes are set to 2"
   ]
  },
  {
   "cell_type": "markdown",
   "id": "deaef3ef-d013-4572-b95c-9e08885c2026",
   "metadata": {},
   "source": [
    "We then specify the training parameters. We will train for 400 epochs."
   ]
  },
  {
   "cell_type": "code",
   "execution_count": 12,
   "id": "3b05015b-4a5d-430a-8ff5-8b45978aaed2",
   "metadata": {},
   "outputs": [],
   "source": [
    "learning_rate = 1e-4\n",
    "b_size = 32 #Batch size. Since we utilize batch norm layers, it is better to have a larger batch size. However, this will increase the amount of GPU RAM needed.\n",
    "epochs = 400"
   ]
  },
  {
   "cell_type": "markdown",
   "id": "4264a6fa-5eab-4329-92e3-67f92f7607b1",
   "metadata": {},
   "source": [
    "Next, we set the randomization seed before we initialize any matricies, or any functions that may be affected by the randomization seed."
   ]
  },
  {
   "cell_type": "code",
   "execution_count": 13,
   "id": "fc4e6619-b8cc-4296-9c75-b4223e56ad40",
   "metadata": {},
   "outputs": [
    {
     "data": {
      "text/plain": [
       "<torch._C.Generator at 0x7f0fe8112af0>"
      ]
     },
     "execution_count": 13,
     "metadata": {},
     "output_type": "execute_result"
    }
   ],
   "source": [
    "seed_num = 9213\n",
    "torch.manual_seed(seed_num)"
   ]
  },
  {
   "cell_type": "markdown",
   "id": "47b85040-371d-4274-9802-63289ef1e562",
   "metadata": {},
   "source": [
    "Next, we create the DataLoader object which will randomly create batches of images from our training/validation datasets."
   ]
  },
  {
   "cell_type": "code",
   "execution_count": 14,
   "id": "5ae91d30-af40-458e-a372-5999e93ebc87",
   "metadata": {},
   "outputs": [],
   "source": [
    "#Setup the data loader\n",
    "train_dataloader = DataLoader(train_dataset, batch_size=b_size, shuffle=True, num_workers=4)\n",
    "valid_dataloader = DataLoader(valid_dataset, batch_size=b_size, shuffle=True, num_workers=4)"
   ]
  },
  {
   "cell_type": "markdown",
   "id": "feaf46b8-bcb0-4995-b722-cf16c2269a5e",
   "metadata": {},
   "source": [
    "Now we can setup our model and move it to our GPU (if available)."
   ]
  },
  {
   "cell_type": "code",
   "execution_count": 15,
   "id": "bb68d9f5-984e-402c-b849-91e63bb8cebf",
   "metadata": {},
   "outputs": [],
   "source": [
    "model = UNet(num_blocks,filter_sequence,pool_sequence)\n",
    "loss_fn = nn.CrossEntropyLoss()\n",
    "optimizer = torch.optim.Adam(model.parameters(),lr = learning_rate)\n",
    "\n",
    "#Setup GPU and move model\n",
    "device = torch.device('cuda' if torch.cuda.is_available() else 'cpu')\n",
    "model.to(device);"
   ]
  },
  {
   "cell_type": "markdown",
   "id": "2953e6ae-b127-45da-b571-b6e0e0130070",
   "metadata": {},
   "source": [
    "Finally, we can start training. We record the average loss function, dice score, and hard dice score at the end of each epoch for the training and validation datasets. On our GPU, this takes about 10Gb of RAM and runs for around 53 minutes"
   ]
  },
  {
   "cell_type": "code",
   "execution_count": 17,
   "id": "2b5c14ce-6d0f-4264-8177-dcc665e9962a",
   "metadata": {},
   "outputs": [
    {
     "name": "stdout",
     "output_type": "stream",
     "text": [
      "Epoch: 399 Val Dice: 0.8462293148040771 Time: 7.9780480861663826\r"
     ]
    }
   ],
   "source": [
    "#Set the logging variables\n",
    "history = {'loss': [], 'dice_coef': [], 'hard_dice_coef': [], 'val_loss': [], 'val_dice_coef': [], 'val_hard_dice_coef': [], 'time': []}\n",
    "    \n",
    "#Run the training\n",
    "for t in range(epochs):\n",
    "    start_time=time.time()\n",
    "    avg_loss, avg_dice, avg_hard_dice = train_loop(train_dataloader, model, loss_fn, optimizer, device)\n",
    "    history['loss'].append(avg_loss)\n",
    "    history['dice_coef'].append(avg_dice)\n",
    "    history['hard_dice_coef'].append(avg_hard_dice)\n",
    "    val_loss, val_dice, val_hard_dice = test_loop(valid_dataloader, model, loss_fn, optimizer, device)\n",
    "    history['val_loss'].append(val_loss)\n",
    "    history['val_dice_coef'].append(val_dice)\n",
    "    history['val_hard_dice_coef'].append(val_hard_dice)  \n",
    "    end_time = time.time()\n",
    "    history['time'].append(end_time-start_time)\n",
    "    print('Epoch: '+ str(t) + ' Val Dice: '+str(val_dice) + ' Time: '+str(end_time-start_time), end='\\r')"
   ]
  },
  {
   "cell_type": "code",
   "execution_count": 20,
   "id": "fe8a9f7b-dcad-4923-976b-8f7ffc8787d5",
   "metadata": {},
   "outputs": [
    {
     "data": {
      "text/plain": [
       "<matplotlib.legend.Legend at 0x7f0dc60aed90>"
      ]
     },
     "execution_count": 20,
     "metadata": {},
     "output_type": "execute_result"
    },
    {
     "data": {
      "image/png": "[encoded data removed]",
      "text/plain": [
       "<Figure size 1008x216 with 2 Axes>"
      ]
     },
     "metadata": {
      "needs_background": "light"
     },
     "output_type": "display_data"
    }
   ],
   "source": [
    "plt.figure(figsize=(14,3))\n",
    "plt.subplot(1,2,1)\n",
    "plt.plot(history['loss'], label='Training Loss')\n",
    "plt.plot(history['val_loss'], label='Validation Loss')\n",
    "plt.xlabel('Training Epochs')\n",
    "plt.ylabel('Loss')\n",
    "plt.legend()\n",
    "plt.subplot(1,2,2)\n",
    "plt.plot(history['hard_dice_coef'], label='Training Hard Dice')\n",
    "plt.plot(history['val_hard_dice_coef'], label='Validation Hard Dice')\n",
    "plt.xlabel('Training Epochs')\n",
    "plt.ylabel('Hard Dice Score')\n",
    "plt.legend()"
   ]
  },
  {
   "cell_type": "markdown",
   "id": "435bf3e8-9e6a-447b-8bdc-c68ef7fd4b13",
   "metadata": {},
   "source": [
    "In the above graph, we see that the loss functions start to diverge around 100 epochs. Therefore, for this dataset, we will train our models for 100 epochs."
   ]
  },
  {
   "cell_type": "markdown",
   "id": "a8e025f4-843e-4d6c-8526-710cd1101289",
   "metadata": {},
   "source": [
    "# Training Models of Varying Receptive Field"
   ]
  },
  {
   "cell_type": "markdown",
   "id": "a185afaf-e366-4a15-ad39-22f592bca4e2",
   "metadata": {},
   "source": [
    "We will now demonstrate how we train models of varying receptive field. Note that the below example is for a single run; in our paper, we repeat this five times to get average performance. "
   ]
  },
  {
   "cell_type": "code",
   "execution_count": 21,
   "id": "be918d0c-873d-437a-9bf4-4198c59859d5",
   "metadata": {},
   "outputs": [],
   "source": [
    "#Import the data\n",
    "train_img_filepath = '../dataset_preprocessing/Au_Training_DiAugment_Norm_PyTorch_Images.h5'\n",
    "train_lbl_filepath = '../dataset_preprocessing/Dataset Creation/Au_Training_DiAugment_Norm_PyTorch_Labels.h5'\n",
    "train_dataset = TEMImageDataset(image_filepath=train_img_filepath,img_key='images',labels_filepath=train_lbl_filepath,lbl_key = 'labels')\n",
    "\n",
    "valid_img_filepath = '../dataset_preprocessing/Dataset Creation/Au_Validation_DiAugment_Norm_PyTorch_Images.h5'\n",
    "valid_lbl_filepath = '../dataset_preprocessing/Dataset Creation/Au_Validation_DiAugment_Norm_PyTorch_Labels.h5'\n",
    "valid_dataset = TEMImageDataset(image_filepath=valid_img_filepath,img_key='images',labels_filepath=valid_lbl_filepath,lbl_key = 'labels')"
   ]
  },
  {
   "cell_type": "markdown",
   "id": "ca37ef46-effa-4e1d-9021-e91ea6c165e9",
   "metadata": {},
   "source": [
    "We again set our model parameters. Here, we will be examining performance for a 2-residual-block UNet."
   ]
  },
  {
   "cell_type": "code",
   "execution_count": 24,
   "id": "51d0089f-204f-45cc-b41f-7bd7fa7e694e",
   "metadata": {},
   "outputs": [],
   "source": [
    "pool_sequences = [[2,2],[2,4],[2,8],[4,2],[4,4],[4,8],[8,2],[8,4],[8,8]] #List of different max pooling configurations\n",
    "\n",
    "#Specify training parameters\n",
    "learning_rate = 1e-4\n",
    "b_size = 32\n",
    "epochs = 100\n",
    "\n",
    "#Specify model parameters\n",
    "num_blocks = 2\n",
    "filter_sequence = [4,8,16]"
   ]
  },
  {
   "cell_type": "markdown",
   "id": "fb283b58-04cc-46e6-8418-3b3938c48da1",
   "metadata": {},
   "source": [
    "We can then run our for-loop which trains a different max pooling configuration every pass through. On our workstation, this runs for around 93 minutes."
   ]
  },
  {
   "cell_type": "code",
   "execution_count": 25,
   "id": "aba98e78-aa97-4920-ab39-2b994dcd0f50",
   "metadata": {
    "tags": []
   },
   "outputs": [
    {
     "name": "stdout",
     "output_type": "stream",
     "text": [
      "Max Pool 88 Epoch: 99 Val Dice: 0.7474121082396734 Time: 5.7587945461273195\r"
     ]
    }
   ],
   "source": [
    "for i in pool_sequences:\n",
    "    ps_string = str(i[0])+str(i[1])\n",
    "    \n",
    "    #Globally setting the random seed\n",
    "    seed_num = 752\n",
    "    torch.manual_seed(seed_num)\n",
    "    \n",
    "    #Setup the data loader\n",
    "    train_dataloader = DataLoader(train_dataset, batch_size=b_size, shuffle=True, num_workers=4)\n",
    "    valid_dataloader = DataLoader(valid_dataset, batch_size=b_size, shuffle=True, num_workers=4)\n",
    "\n",
    "    model = UNet(num_blocks,filter_sequence,i)\n",
    "    loss_fn = nn.CrossEntropyLoss()\n",
    "    optimizer = torch.optim.Adam(model.parameters(),lr = learning_rate)\n",
    "\n",
    "    #Setup GPU and move model\n",
    "    device = torch.device('cuda' if torch.cuda.is_available() else 'cpu')\n",
    "    model.to(device)\n",
    "\n",
    "    #Set the logging variables\n",
    "    history = {'loss': [], 'dice_coef': [], 'hard_dice_coef': [], 'val_loss': [], 'val_dice_coef': [], 'val_hard_dice_coef': [], 'time': []}\n",
    "    \n",
    "    #Run the training\n",
    "    for t in range(epochs):\n",
    "      start_time=time.time()\n",
    "      avg_loss, avg_dice, avg_hard_dice = train_loop(train_dataloader, model, loss_fn, optimizer, device)\n",
    "      history['loss'].append(avg_loss)\n",
    "      history['dice_coef'].append(avg_dice)\n",
    "      history['hard_dice_coef'].append(avg_hard_dice)\n",
    "      val_loss, val_dice, val_hard_dice = test_loop(valid_dataloader, model, loss_fn, optimizer, device)\n",
    "      history['val_loss'].append(val_loss)\n",
    "      history['val_dice_coef'].append(val_dice)\n",
    "      history['val_hard_dice_coef'].append(val_hard_dice)  \n",
    "      end_time = time.time()\n",
    "      history['time'].append(end_time-start_time)\n",
    "      print('Max Pool '+ps_string+' Epoch: '+ str(t) + ' Val Dice: '+str(val_dice) + ' Time: '+str(end_time-start_time), end='\\r')\n",
    "  \n",
    "\n",
    "    #Save model and history file\n",
    "    torch.save(model, 'UNet_b2_Au_m'+ps_string+'_run1_model.h5')\n",
    "    history_dataframe = DataFrame(history)\n",
    "    hist_filename = 'UNet_b2_Au_m'+ps_string+'_run1_trainingLossHistory.csv'\n",
    "    with open(hist_filename, mode='w') as f:\n",
    "      history_dataframe.to_csv(f)"
   ]
  },
  {
   "cell_type": "markdown",
   "id": "977fbde3-0ea0-44f5-a78f-1c427c64af94",
   "metadata": {},
   "source": [
    "We then evaluate the models' performance on the test set."
   ]
  },
  {
   "cell_type": "code",
   "execution_count": 26,
   "id": "7780cd1b-9c28-4d86-9143-d794d9b1f38d",
   "metadata": {},
   "outputs": [],
   "source": [
    "# Load the test set\n",
    "img_filepath = '../dataset_preprocessing/Au_Test_DiAugment_Norm_PyTorch_Images.h5'\n",
    "lbl_filepath = '../dataset_preprocessing/Au_Test_DiAugment_Norm_PyTorch_Labels.h5'\n",
    "test_dataset = TEMImageDataset(image_filepath=img_filepath,img_key='images',labels_filepath=lbl_filepath,lbl_key = 'labels')"
   ]
  },
  {
   "cell_type": "code",
   "execution_count": 27,
   "id": "c68744b4-f4ca-40ee-af46-3038e880c7bf",
   "metadata": {},
   "outputs": [],
   "source": [
    "# Set the test dataloader parameters\n",
    "learning_rate = 1e-4\n",
    "b_size = 32\n",
    "test_dataloader = DataLoader(test_dataset, batch_size=b_size, shuffle=True, num_workers=0)"
   ]
  },
  {
   "cell_type": "code",
   "execution_count": 30,
   "id": "6730a954-2d9d-4e9d-9ea5-788701968004",
   "metadata": {},
   "outputs": [],
   "source": [
    "# Get the test results\n",
    "test_results = {'mp': [], 'run': [], 't_loss': [], 't_dice': [], 't_hard_dice': []}\n",
    "trained_models_folder = ''\n",
    "pool_seq = [[2,2],[2,4],[2,8],[4,2],[4,4],[4,8],[8,2],[8,4],[8,8]]\n",
    "num_blocks = 2\n",
    "filter_sequence = [4,8,16,32,64,128,256]\n",
    "device = torch.device('cuda' if torch.cuda.is_available() else 'cpu')\n",
    "\n",
    "for i in pool_seq:\n",
    "    runs = [1]\n",
    "    for r in runs:\n",
    "        pool_str = str(i[0])+str(i[1])\n",
    "        model_path = 'UNet_b2_Au_m'+pool_str+'_run'+str(r)+'_model.h5'\n",
    "        model = UNet(num_blocks, filter_sequence, i)\n",
    "        loss_fn = nn.CrossEntropyLoss()\n",
    "        optimizer = torch.optim.Adam(model.parameters(),lr = learning_rate)\n",
    "        \n",
    "        model = torch.load(trained_models_folder+model_path)\n",
    "        model.to(device)\n",
    "        \n",
    "        test_loss, test_dice, test_hard_dice = test_loop(test_dataloader, model, loss_fn, optimizer, device)\n",
    "        test_results['mp'].append(pool_str)\n",
    "        test_results['run'].append(r)\n",
    "        test_results['t_loss'].append(test_loss)\n",
    "        test_results['t_dice'].append(test_dice)\n",
    "        test_results['t_hard_dice'].append(test_hard_dice)\n",
    "\n",
    "history_dataframe = DataFrame(test_results)\n",
    "hist_filename = trained_models_folder+'test_results.csv'\n",
    "with open(hist_filename, mode='w') as f:\n",
    "    history_dataframe.to_csv(f)"
   ]
  },
  {
   "cell_type": "markdown",
   "id": "69260851-4020-44a2-a330-634f574b145b",
   "metadata": {},
   "source": [
    "We have already calculated the receptive fields (in pixels and nanometers) for this architecture and dataset, and so we can plot out how performance changes on this single run"
   ]
  },
  {
   "cell_type": "code",
   "execution_count": 32,
   "id": "d8ebcb96-7e36-4e90-a649-8be8dcae2758",
   "metadata": {},
   "outputs": [
    {
     "data": {
      "text/plain": [
       "Text(0, 0.5, 'Test Hard Dice Score')"
      ]
     },
     "execution_count": 32,
     "metadata": {},
     "output_type": "execute_result"
    },
    {
     "data": {
      "image/png": "[encoded data removed]",
      "text/plain": [
       "<Figure size 1008x360 with 2 Axes>"
      ]
     },
     "metadata": {
      "needs_background": "light"
     },
     "output_type": "display_data"
    }
   ],
   "source": [
    "# Receptive field in pixels\n",
    "rf = np.asarray([44, 64, 80, 104, 120, 152, 200, 232, 392])\n",
    "# Multiply the receptive field by pixel scale (nm/pixel)\n",
    "plt.figure(figsize=(14,5))\n",
    "plt.subplot(1,2,1)\n",
    "plt.plot(rf*0.02152,test_results['t_loss'])\n",
    "plt.xlabel('Receptive Field (nm)')\n",
    "plt.ylabel('Test Loss')\n",
    "plt.subplot(1,2,2)\n",
    "plt.plot(rf*0.02152,test_results['t_hard_dice'])\n",
    "plt.xlabel('Receptive Field (nm)')\n",
    "plt.ylabel('Test Hard Dice Score')"
   ]
  },
  {
   "cell_type": "markdown",
   "id": "93382aab-e069-4a66-977c-4e200cbdf157",
   "metadata": {},
   "source": [
    "Above, we can see how segmentation performance increases with receptive field and then plateaus a bit. With the loss function, lower is better while for the hard dice score, higher is better. To get a better idea as to the trend, we need to repeat this for multiple runs to get average performance."
   ]
  },
  {
   "cell_type": "code",
   "execution_count": null,
   "id": "7c2154d0-a894-42e1-a8c3-63d52678bf22",
   "metadata": {},
   "outputs": [],
   "source": []
  }
 ],
 "metadata": {
  "kernelspec": {
   "display_name": "Python [conda env:pytorch-1p9]",
   "language": "python",
   "name": "conda-env-pytorch-1p9-py"
  },
  "language_info": {
   "codemirror_mode": {
    "name": "ipython",
    "version": 3
   },
   "file_extension": ".py",
   "mimetype": "text/x-python",
   "name": "python",
   "nbconvert_exporter": "python",
   "pygments_lexer": "ipython3",
   "version": "3.8.11"
  }
 },
 "nbformat": 4,
 "nbformat_minor": 5
}
